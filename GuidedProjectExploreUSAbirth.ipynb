{
 "cells": [
  {
   "cell_type": "markdown",
   "metadata": {
    "collapsed": true
   },
   "source": [
    "# Guided Project:Explore USA birth"
   ]
  },
  {
   "cell_type": "code",
   "execution_count": 1,
   "metadata": {
    "collapsed": false
   },
   "outputs": [],
   "source": [
    "data = open('US_births_1994-2003_CDC_NCHS.csv','r').read().split('\\n')"
   ]
  },
  {
   "cell_type": "code",
   "execution_count": 3,
   "metadata": {
    "collapsed": false
   },
   "outputs": [
    {
     "data": {
      "text/plain": [
       "['year,month,date_of_month,day_of_week,births',\n",
       " '1994,1,1,6,8096',\n",
       " '1994,1,2,7,7772',\n",
       " '1994,1,3,1,10142',\n",
       " '1994,1,4,2,11248',\n",
       " '1994,1,5,3,11053',\n",
       " '1994,1,6,4,11406',\n",
       " '1994,1,7,5,11251',\n",
       " '1994,1,8,6,8653',\n",
       " '1994,1,9,7,7910']"
      ]
     },
     "execution_count": 3,
     "metadata": {},
     "output_type": "execute_result"
    }
   ],
   "source": [
    "data[0:10]"
   ]
  },
  {
   "cell_type": "code",
   "execution_count": 4,
   "metadata": {
    "collapsed": true
   },
   "outputs": [],
   "source": [
    "def read_csv(filename):\n",
    "    string_list = open(filename,'r').read().split('\\n')[1:];\n",
    "    final_list = []\n",
    "    for birthdata in string_list:\n",
    "        int_fields = []\n",
    "        string_fields = birthdata.split(',')\n",
    "        for row in string_fields:\n",
    "            int_fields.append(int(row))\n",
    "        final_list.append(int_fields)\n",
    "    return final_list    "
   ]
  },
  {
   "cell_type": "code",
   "execution_count": 6,
   "metadata": {
    "collapsed": false
   },
   "outputs": [
    {
     "data": {
      "text/plain": [
       "[[1994, 1, 1, 6, 8096],\n",
       " [1994, 1, 2, 7, 7772],\n",
       " [1994, 1, 3, 1, 10142],\n",
       " [1994, 1, 4, 2, 11248],\n",
       " [1994, 1, 5, 3, 11053],\n",
       " [1994, 1, 6, 4, 11406],\n",
       " [1994, 1, 7, 5, 11251],\n",
       " [1994, 1, 8, 6, 8653],\n",
       " [1994, 1, 9, 7, 7910],\n",
       " [1994, 1, 10, 1, 10498]]"
      ]
     },
     "execution_count": 6,
     "metadata": {},
     "output_type": "execute_result"
    }
   ],
   "source": [
    "final_list = read_csv('US_births_1994-2003_CDC_NCHS.csv')\n",
    "final_list[0:10]"
   ]
  },
  {
   "cell_type": "markdown",
   "metadata": {},
   "source": [
    "# Caculate the total number of births in each month"
   ]
  },
  {
   "cell_type": "code",
   "execution_count": 7,
   "metadata": {
    "collapsed": true
   },
   "outputs": [],
   "source": [
    "def moth_births(birth_int_data):\n",
    "    birth_per_month = {};\n",
    "    for row in birth_int_data:\n",
    "        month = row[1]\n",
    "        birth = row[4]\n",
    "        if month in birth_per_month:\n",
    "            birth_per_month[month] += birth\n",
    "        else:\n",
    "            birth_per_month[month] = birth\n",
    "    return birth_per_month\n",
    "        \n",
    "        "
   ]
  },
  {
   "cell_type": "code",
   "execution_count": 8,
   "metadata": {
    "collapsed": false
   },
   "outputs": [
    {
     "data": {
      "text/plain": [
       "{1: 3232517,\n",
       " 2: 3018140,\n",
       " 3: 3322069,\n",
       " 4: 3185314,\n",
       " 5: 3350907,\n",
       " 6: 3296530,\n",
       " 7: 3498783,\n",
       " 8: 3525858,\n",
       " 9: 3439698,\n",
       " 10: 3378814,\n",
       " 11: 3171647,\n",
       " 12: 3301860}"
      ]
     },
     "execution_count": 8,
     "metadata": {},
     "output_type": "execute_result"
    }
   ],
   "source": [
    "final_list = read_csv('US_births_1994-2003_CDC_NCHS.csv')\n",
    "moth_births(final_list)"
   ]
  },
  {
   "cell_type": "markdown",
   "metadata": {
    "collapsed": true
   },
   "source": [
    "# Caculate the total num of births for each day of the week"
   ]
  },
  {
   "cell_type": "code",
   "execution_count": 2,
   "metadata": {
    "collapsed": false
   },
   "outputs": [
    {
     "data": {
      "text/plain": [
       "{1: 5789166,\n",
       " 2: 6446196,\n",
       " 3: 6322855,\n",
       " 4: 6288429,\n",
       " 5: 6233657,\n",
       " 6: 4562111,\n",
       " 7: 4079723}"
      ]
     },
     "execution_count": 2,
     "metadata": {},
     "output_type": "execute_result"
    }
   ],
   "source": [
    "def read_csv(filename):\n",
    "    string_list = open(filename,'r').read().split('\\n')[1:];\n",
    "    final_list = []\n",
    "    for birthdata in string_list:\n",
    "        int_fields = []\n",
    "        string_fields = birthdata.split(',')\n",
    "        for row in string_fields:\n",
    "            int_fields.append(int(row))\n",
    "        final_list.append(int_fields)\n",
    "    return final_list  \n",
    "\n",
    "final_list = read_csv('US_births_1994-2003_CDC_NCHS.csv')\n",
    "\n",
    "def moth_births(birth_int_data):\n",
    "    birth_per_month = {};\n",
    "    for row in birth_int_data:\n",
    "        month = row[1]\n",
    "        birth = row[4]\n",
    "        if month in birth_per_month:\n",
    "            birth_per_month[month] += birth\n",
    "        else:\n",
    "            birth_per_month[month] = birth\n",
    "    return birth_per_month\n",
    "\n",
    "def dow_births(birth_int_data):\n",
    "    cdc_day_births = {}\n",
    "    for row in birth_int_data:\n",
    "        day_of_week = row[3]\n",
    "        birth = row[4]\n",
    "        if day_of_week in cdc_day_births:\n",
    "            cdc_day_births[day_of_week] += birth\n",
    "        else:\n",
    "            cdc_day_births[day_of_week] = birth\n",
    "    return cdc_day_births\n",
    "\n",
    "dow_births(final_list)\n",
    "        "
   ]
  },
  {
   "cell_type": "markdown",
   "metadata": {},
   "source": [
    "# Caculate different type of time"
   ]
  },
  {
   "cell_type": "code",
   "execution_count": 3,
   "metadata": {
    "collapsed": true
   },
   "outputs": [],
   "source": [
    "def read_csv(filename):\n",
    "    string_list = open(filename,'r').read().split('\\n')[1:];\n",
    "    final_list = []\n",
    "    for birthdata in string_list:\n",
    "        int_fields = []\n",
    "        string_fields = birthdata.split(',')\n",
    "        for row in string_fields:\n",
    "            int_fields.append(int(row))\n",
    "        final_list.append(int_fields)\n",
    "    return final_list  \n",
    "\n",
    "final_list = read_csv('US_births_1994-2003_CDC_NCHS.csv')\n",
    "\n",
    "def calc_counts(birth_int_data,colomn):\n",
    "    birth_per = {};\n",
    "    for row in birth_int_data:\n",
    "        time = row[colomn]\n",
    "        birth = row[4]\n",
    "        if time in birth_per:\n",
    "            birth_per[time] += birth\n",
    "        else:\n",
    "            birth_per[time] = birth\n",
    "    return birth_per\n",
    "\n",
    "birth_per_year = calc_counts(final_list,0)\n",
    "birth_per_month = calc_counts(final_list,1)\n",
    "birth_per_day = calc_counts(final_list,2)\n",
    "birth_per_year = calc_counts(final_list,3)"
   ]
  },
  {
   "cell_type": "code",
   "execution_count": null,
   "metadata": {
    "collapsed": true
   },
   "outputs": [],
   "source": []
  }
 ],
 "metadata": {
  "anaconda-cloud": {},
  "kernelspec": {
   "display_name": "Python 3",
   "language": "python",
   "name": "python3"
  },
  "language_info": {
   "codemirror_mode": {
    "name": "ipython",
    "version": 3
   },
   "file_extension": ".py",
   "mimetype": "text/x-python",
   "name": "python",
   "nbconvert_exporter": "python",
   "pygments_lexer": "ipython3",
   "version": "3.4.3"
  }
 },
 "nbformat": 4,
 "nbformat_minor": 1
}
